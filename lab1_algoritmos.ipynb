{
  "nbformat": 4,
  "nbformat_minor": 0,
  "metadata": {
    "colab": {
      "name": "lab1_algoritmos.ipynb",
      "version": "0.3.2",
      "provenance": [],
      "collapsed_sections": [],
      "include_colab_link": true
    },
    "kernelspec": {
      "name": "python3",
      "display_name": "Python 3"
    }
  },
  "cells": [
    {
      "cell_type": "markdown",
      "metadata": {
        "id": "view-in-github",
        "colab_type": "text"
      },
      "source": [
        "<a href=\"https://colab.research.google.com/github/kenny08gt/lab1_algoritmos_ds/blob/master/lab1_algoritmos.ipynb\" target=\"_parent\"><img src=\"https://colab.research.google.com/assets/colab-badge.svg\" alt=\"Open In Colab\"/></a>"
      ]
    },
    {
      "cell_type": "markdown",
      "metadata": {
        "id": "qJvCvwhlSOYm",
        "colab_type": "text"
      },
      "source": [
        "# Alan Hrtarte\n",
        "# 19000590\n",
        "\n",
        "---\n",
        "\n",
        "# Laboratorio 1\n",
        "\n",
        "---"
      ]
    },
    {
      "cell_type": "code",
      "metadata": {
        "id": "DaySSLpNod5n",
        "colab_type": "code",
        "colab": {}
      },
      "source": [
        "import pandas as pd\n",
        "import re\n",
        "import numpy as np\n",
        "import matplotlib.pyplot as plt\n",
        "from sklearn.linear_model import LinearRegression"
      ],
      "execution_count": 0,
      "outputs": []
    },
    {
      "cell_type": "markdown",
      "metadata": {
        "id": "XzhByZ1vLjGn",
        "colab_type": "text"
      },
      "source": [
        "# Método de Newton"
      ]
    },
    {
      "cell_type": "code",
      "metadata": {
        "id": "rR6uV9CppJGJ",
        "colab_type": "code",
        "outputId": "89a8728b-62f1-4781-a9fc-971e31b17971",
        "colab": {
          "base_uri": "https://localhost:8080/",
          "height": 173
        }
      },
      "source": [
        "def eqFromStr(str):\n",
        "  str = str.strip()\n",
        "  str = str.lower()\n",
        "  arr = re.split(\"([\\+|\\-])\", str)\n",
        "  out = \"\"\n",
        "  for el in arr:\n",
        "    el = el.replace('^', '**')\n",
        "    if 'x' in el:\n",
        "      var_pos = el.index('x')\n",
        "      el = '(' + el[:var_pos] + '*' + el[var_pos:] + ')'\n",
        "     \n",
        "    out = out + el\n",
        "  return out\n",
        "\n",
        "def f(eq, x):\n",
        "  strOut = eqFromStr(eq)\n",
        "  return eval(strOut)\n",
        "\n",
        "def derivative(str_equ, x, h):\n",
        "  func = eqFromStr(str_equ)\n",
        "  func = func.replace(\"x\", '(x + h)')\n",
        "  func = \"-4*(\" + func + \")\"\n",
        "  out = eval(func)\n",
        "  \n",
        "  func = eqFromStr(str_equ)\n",
        "  func = func.replace(\"x\", '(x + 2*h)')\n",
        "  out = out + eval(func)\n",
        "  \n",
        "  func = eqFromStr(str_equ)\n",
        "  func = func.replace(\"x\", '(x)')\n",
        "  func = \"3*(\" + func + \")\"\n",
        "  out = out + eval(func)\n",
        "  \n",
        "  out = -out/(2*h)\n",
        "  \n",
        "  return out\n",
        "\n",
        "def Newton(eqStr, x0, epsilon, h):\n",
        "  \n",
        "  xn = x0\n",
        "  error = 1\n",
        "  epochs = []\n",
        "  f_vals = []\n",
        "  devs = []\n",
        "  Xn = []\n",
        "  errors = []\n",
        "  i = 0\n",
        "  while(error > epsilon):\n",
        "    f_val = f(eqStr, xn)\n",
        "    dev = derivative(eqStr, xn, h)\n",
        "    x_n1 = xn - f_val/dev\n",
        "    error = abs(f(eqStr, xn))\n",
        "    i = i + 1\n",
        "    xn = x_n1\n",
        "    epochs.append(i)\n",
        "    Xn.append(xn)\n",
        "    errors.append(error)\n",
        "    f_vals.append(f_val)\n",
        "    devs.append(dev)\n",
        "  \n",
        "  results = pd.DataFrame({'Iter':epochs, 'Xn':Xn, 'Error': errors, 'F(x)':f_vals, \"f'(x)\":devs})\n",
        "  return results, xn\n",
        "  \n",
        "  \n",
        "data, solution = Newton('4x^4 - 4x + 1 ', 0.1, 0.0000001, 0.000001)\n",
        "data"
      ],
      "execution_count": 0,
      "outputs": [
        {
          "output_type": "execute_result",
          "data": {
            "text/html": [
              "<div>\n",
              "<style scoped>\n",
              "    .dataframe tbody tr th:only-of-type {\n",
              "        vertical-align: middle;\n",
              "    }\n",
              "\n",
              "    .dataframe tbody tr th {\n",
              "        vertical-align: top;\n",
              "    }\n",
              "\n",
              "    .dataframe thead th {\n",
              "        text-align: right;\n",
              "    }\n",
              "</style>\n",
              "<table border=\"1\" class=\"dataframe\">\n",
              "  <thead>\n",
              "    <tr style=\"text-align: right;\">\n",
              "      <th></th>\n",
              "      <th>Iter</th>\n",
              "      <th>Xn</th>\n",
              "      <th>Error</th>\n",
              "      <th>F(x)</th>\n",
              "      <th>f'(x)</th>\n",
              "    </tr>\n",
              "  </thead>\n",
              "  <tbody>\n",
              "    <tr>\n",
              "      <th>0</th>\n",
              "      <td>1</td>\n",
              "      <td>0.250703</td>\n",
              "      <td>6.004000e-01</td>\n",
              "      <td>6.004000e-01</td>\n",
              "      <td>-3.984000</td>\n",
              "    </tr>\n",
              "    <tr>\n",
              "      <th>1</th>\n",
              "      <td>2</td>\n",
              "      <td>0.254169</td>\n",
              "      <td>1.299020e-02</td>\n",
              "      <td>1.299020e-02</td>\n",
              "      <td>-3.747886</td>\n",
              "    </tr>\n",
              "    <tr>\n",
              "      <th>2</th>\n",
              "      <td>3</td>\n",
              "      <td>0.254174</td>\n",
              "      <td>1.828887e-05</td>\n",
              "      <td>1.828887e-05</td>\n",
              "      <td>-3.737284</td>\n",
              "    </tr>\n",
              "    <tr>\n",
              "      <th>3</th>\n",
              "      <td>4</td>\n",
              "      <td>0.254174</td>\n",
              "      <td>3.712897e-11</td>\n",
              "      <td>3.712897e-11</td>\n",
              "      <td>-3.737269</td>\n",
              "    </tr>\n",
              "  </tbody>\n",
              "</table>\n",
              "</div>"
            ],
            "text/plain": [
              "   Iter        Xn         Error          F(x)     f'(x)\n",
              "0     1  0.250703  6.004000e-01  6.004000e-01 -3.984000\n",
              "1     2  0.254169  1.299020e-02  1.299020e-02 -3.747886\n",
              "2     3  0.254174  1.828887e-05  1.828887e-05 -3.737284\n",
              "3     4  0.254174  3.712897e-11  3.712897e-11 -3.737269"
            ]
          },
          "metadata": {
            "tags": []
          },
          "execution_count": 66
        }
      ]
    },
    {
      "cell_type": "code",
      "metadata": {
        "id": "lcbdpEUOpJBs",
        "colab_type": "code",
        "colab": {}
      },
      "source": [
        "4x\n",
        "4 − 4x + 1"
      ],
      "execution_count": 0,
      "outputs": []
    },
    {
      "cell_type": "code",
      "metadata": {
        "id": "TGMKq_ZWpI9n",
        "colab_type": "code",
        "colab": {}
      },
      "source": [
        "def estimateRC(Xn, sol):\n",
        "  error = []\n",
        "  for xn in Xn:\n",
        "    error.append(abs(xn - sol))\n",
        "\n",
        "  ek1 = error[0:len(error)-3]\n",
        "  ek = error[1:len(error)-2]\n",
        "  \n",
        "  y = np.array(ek)\n",
        "  x = np.array(ek1)\n",
        "  x = np.log(x)\n",
        "  y = np.log(y)\n",
        "  \n",
        "  x = x.reshape(-1, 1)\n",
        "  y = y.reshape(-1, 1)\n",
        "\n",
        "  model = LinearRegression()  \n",
        "  model.fit(x,y) \n",
        "  r = model.coef_\n",
        "  C =  model.intercept_\n",
        "  C = np.exp(C)\n",
        "  return C,r"
      ],
      "execution_count": 0,
      "outputs": []
    },
    {
      "cell_type": "code",
      "metadata": {
        "id": "X5Yi3fgPpI5Z",
        "colab_type": "code",
        "outputId": "571f756f-bed3-4aa1-9191-29b68d3f247b",
        "colab": {
          "base_uri": "https://localhost:8080/",
          "height": 34
        }
      },
      "source": [
        "estimateRC(data['Xn'], solution)"
      ],
      "execution_count": 0,
      "outputs": [
        {
          "output_type": "execute_result",
          "data": {
            "text/plain": [
              "(array([4.89363574e-06]), array([[0.]]))"
            ]
          },
          "metadata": {
            "tags": []
          },
          "execution_count": 68
        }
      ]
    },
    {
      "cell_type": "markdown",
      "metadata": {
        "id": "ulg5gPB-LGDK",
        "colab_type": "text"
      },
      "source": [
        "## Conclusión newton\n",
        "La solución que encontro el método de newton es un mínimo global ya que la Hessian es PD.\n",
        "C = 4.8936e-06 y r = 0\n",
        "\n",
        "# Método de Bisección"
      ]
    },
    {
      "cell_type": "code",
      "metadata": {
        "id": "8gU1nB9XpI1K",
        "colab_type": "code",
        "colab": {}
      },
      "source": [
        "def bisection(f_str, a, b, distance):\n",
        "  error = 1\n",
        "  epochs = []\n",
        "  f_vals = []\n",
        "  devs = []\n",
        "  Xn = []\n",
        "  errors = []\n",
        "  i = 0\n",
        "  \n",
        "  fa = f(f_str, a)\n",
        "  fb = f(f_str, b)\n",
        "  \n",
        "  if fa * fb >= 0:\n",
        "    return None\n",
        "  a_n = a\n",
        "  b_n = b\n",
        "  \n",
        "  while ((b_n-a_n) >= distance):\n",
        "    m_n = (a_n + b_n)/2\n",
        "    f_m_n = f(f_str, m_n)\n",
        "    f_a_n = f(f_str, a_n)\n",
        "    f_b_n = f(f_str, b_n)\n",
        "    if f_a_n * f_m_n < 0:\n",
        "      a_n = a_n\n",
        "      b_n = m_n\n",
        "    elif f_b_n * f_m_n < 0:\n",
        "      a_n = m_n\n",
        "      b_n = b_n\n",
        "    elif f_m_n == 0:\n",
        "      return m_n\n",
        "    else:\n",
        "      return None\n",
        "    \n",
        "    error = abs(f(f_str, m_n))\n",
        "    epochs.append(i)\n",
        "    Xn.append(m_n)\n",
        "    f_vals.append(f_m_n)\n",
        "    errors.append(error)\n",
        "    i=i+1\n",
        "  data = pd.DataFrame({'Iter':epochs, 'Xn':Xn, 'Error': errors, 'F(x)':f_vals })\n",
        "  return data, m_n"
      ],
      "execution_count": 0,
      "outputs": []
    },
    {
      "cell_type": "code",
      "metadata": {
        "id": "TMpFQ48-pIwW",
        "colab_type": "code",
        "outputId": "3d06c4c1-ef4e-4d2c-f54d-2eb3f05dbc45",
        "colab": {
          "base_uri": "https://localhost:8080/",
          "height": 328
        }
      },
      "source": [
        "data, sol = bisection('4x^4 - 4x + 1 ', 0, 0.5, 0.001)\n",
        "data"
      ],
      "execution_count": 0,
      "outputs": [
        {
          "output_type": "execute_result",
          "data": {
            "text/html": [
              "<div>\n",
              "<style scoped>\n",
              "    .dataframe tbody tr th:only-of-type {\n",
              "        vertical-align: middle;\n",
              "    }\n",
              "\n",
              "    .dataframe tbody tr th {\n",
              "        vertical-align: top;\n",
              "    }\n",
              "\n",
              "    .dataframe thead th {\n",
              "        text-align: right;\n",
              "    }\n",
              "</style>\n",
              "<table border=\"1\" class=\"dataframe\">\n",
              "  <thead>\n",
              "    <tr style=\"text-align: right;\">\n",
              "      <th></th>\n",
              "      <th>Iter</th>\n",
              "      <th>Xn</th>\n",
              "      <th>Error</th>\n",
              "      <th>F(x)</th>\n",
              "    </tr>\n",
              "  </thead>\n",
              "  <tbody>\n",
              "    <tr>\n",
              "      <th>0</th>\n",
              "      <td>0</td>\n",
              "      <td>0.250000</td>\n",
              "      <td>0.015625</td>\n",
              "      <td>0.015625</td>\n",
              "    </tr>\n",
              "    <tr>\n",
              "      <th>1</th>\n",
              "      <td>1</td>\n",
              "      <td>0.375000</td>\n",
              "      <td>0.420898</td>\n",
              "      <td>-0.420898</td>\n",
              "    </tr>\n",
              "    <tr>\n",
              "      <th>2</th>\n",
              "      <td>2</td>\n",
              "      <td>0.312500</td>\n",
              "      <td>0.211853</td>\n",
              "      <td>-0.211853</td>\n",
              "    </tr>\n",
              "    <tr>\n",
              "      <th>3</th>\n",
              "      <td>3</td>\n",
              "      <td>0.281250</td>\n",
              "      <td>0.099972</td>\n",
              "      <td>-0.099972</td>\n",
              "    </tr>\n",
              "    <tr>\n",
              "      <th>4</th>\n",
              "      <td>4</td>\n",
              "      <td>0.265625</td>\n",
              "      <td>0.042587</td>\n",
              "      <td>-0.042587</td>\n",
              "    </tr>\n",
              "    <tr>\n",
              "      <th>5</th>\n",
              "      <td>5</td>\n",
              "      <td>0.257812</td>\n",
              "      <td>0.013578</td>\n",
              "      <td>-0.013578</td>\n",
              "    </tr>\n",
              "    <tr>\n",
              "      <th>6</th>\n",
              "      <td>6</td>\n",
              "      <td>0.253906</td>\n",
              "      <td>0.001000</td>\n",
              "      <td>0.001000</td>\n",
              "    </tr>\n",
              "    <tr>\n",
              "      <th>7</th>\n",
              "      <td>7</td>\n",
              "      <td>0.255859</td>\n",
              "      <td>0.006295</td>\n",
              "      <td>-0.006295</td>\n",
              "    </tr>\n",
              "    <tr>\n",
              "      <th>8</th>\n",
              "      <td>8</td>\n",
              "      <td>0.254883</td>\n",
              "      <td>0.002649</td>\n",
              "      <td>-0.002649</td>\n",
              "    </tr>\n",
              "  </tbody>\n",
              "</table>\n",
              "</div>"
            ],
            "text/plain": [
              "   Iter        Xn     Error      F(x)\n",
              "0     0  0.250000  0.015625  0.015625\n",
              "1     1  0.375000  0.420898 -0.420898\n",
              "2     2  0.312500  0.211853 -0.211853\n",
              "3     3  0.281250  0.099972 -0.099972\n",
              "4     4  0.265625  0.042587 -0.042587\n",
              "5     5  0.257812  0.013578 -0.013578\n",
              "6     6  0.253906  0.001000  0.001000\n",
              "7     7  0.255859  0.006295 -0.006295\n",
              "8     8  0.254883  0.002649 -0.002649"
            ]
          },
          "metadata": {
            "tags": []
          },
          "execution_count": 83
        }
      ]
    },
    {
      "cell_type": "code",
      "metadata": {
        "id": "9q7T4EPOpIm2",
        "colab_type": "code",
        "outputId": "24d8bb2c-f288-4bc5-bdaf-ce8caeef45ce",
        "colab": {
          "base_uri": "https://localhost:8080/",
          "height": 34
        }
      },
      "source": [
        "estimateRC(data['Xn'], sol)"
      ],
      "execution_count": 0,
      "outputs": [
        {
          "output_type": "execute_result",
          "data": {
            "text/plain": [
              "(array([0.1474194]), array([[0.59347774]]))"
            ]
          },
          "metadata": {
            "tags": []
          },
          "execution_count": 84
        }
      ]
    },
    {
      "cell_type": "markdown",
      "metadata": {
        "id": "ZtfM3a-xRM4s",
        "colab_type": "text"
      },
      "source": [
        "# Newton vs Bisección\n",
        "* El método de bisección requiere conocimiento de la forma la función para hacer una buena estimación de los puntos iniciales (a, b)\n",
        "* Newton requiere mas computo, por el calculo de la derivada. Sin embargo converge maas rapido que el de bisección."
      ]
    }
  ]
}